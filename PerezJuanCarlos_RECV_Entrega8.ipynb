{
  "nbformat": 4,
  "nbformat_minor": 0,
  "metadata": {
    "colab": {
      "name": "PerezJuanCarlos_RECV_Entrega8.ipynb",
      "provenance": [],
      "authorship_tag": "ABX9TyNaWC8jOFE6bNbMWkX8o7bk",
      "include_colab_link": true
    },
    "kernelspec": {
      "name": "python3",
      "display_name": "Python 3"
    },
    "language_info": {
      "name": "python"
    }
  },
  "cells": [
    {
      "cell_type": "markdown",
      "metadata": {
        "id": "view-in-github",
        "colab_type": "text"
      },
      "source": [
        "<a href=\"https://colab.research.google.com/github/juan-p-b/PerezJuanCarlos_RECV_Entrega8/blob/main/PerezJuanCarlos_RECV_Entrega8.ipynb\" target=\"_parent\"><img src=\"https://colab.research.google.com/assets/colab-badge.svg\" alt=\"Open In Colab\"/></a>"
      ]
    },
    {
      "cell_type": "markdown",
      "metadata": {
        "id": "2pRCH-gfT8Hl"
      },
      "source": [
        "# Entrega 8"
      ]
    },
    {
      "cell_type": "code",
      "metadata": {
        "id": "vwW7FJZ-TQfe"
      },
      "source": [
        "from glob import glob\n"
      ],
      "execution_count": null,
      "outputs": []
    },
    {
      "cell_type": "markdown",
      "metadata": {
        "id": "V1ma4DN-T7Vs"
      },
      "source": [
        ""
      ]
    }
  ]
}